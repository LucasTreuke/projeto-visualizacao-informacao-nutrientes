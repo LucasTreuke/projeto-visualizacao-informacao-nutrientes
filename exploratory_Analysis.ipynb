{
 "cells": [
  {
   "attachments": {},
   "cell_type": "markdown",
   "metadata": {},
   "source": [
    "# Análise exploratória dos dados\n",
    "\n",
    "O primeiro passo será importar os dados e verificar a estrutura deles, após isso vou caminhar para a visualização que já possuo a intenção de fazer."
   ]
  },
  {
   "cell_type": "code",
   "execution_count": 22,
   "metadata": {},
   "outputs": [
    {
     "data": {
      "text/html": [
       "<div>\n",
       "<style scoped>\n",
       "    .dataframe tbody tr th:only-of-type {\n",
       "        vertical-align: middle;\n",
       "    }\n",
       "\n",
       "    .dataframe tbody tr th {\n",
       "        vertical-align: top;\n",
       "    }\n",
       "\n",
       "    .dataframe thead th {\n",
       "        text-align: right;\n",
       "    }\n",
       "</style>\n",
       "<table border=\"1\" class=\"dataframe\">\n",
       "  <thead>\n",
       "    <tr style=\"text-align: right;\">\n",
       "      <th></th>\n",
       "      <th>food_name</th>\n",
       "      <th>proteins_100g</th>\n",
       "      <th>carbohydrates_100g</th>\n",
       "      <th>fat_100g</th>\n",
       "      <th>energy_100g</th>\n",
       "      <th>category_name</th>\n",
       "      <th>origin</th>\n",
       "      <th>diet_type</th>\n",
       "    </tr>\n",
       "  </thead>\n",
       "  <tbody>\n",
       "    <tr>\n",
       "      <th>0</th>\n",
       "      <td>Alaskan salmon</td>\n",
       "      <td>25.4</td>\n",
       "      <td>0.0</td>\n",
       "      <td>6.7</td>\n",
       "      <td>170.0</td>\n",
       "      <td>Fish</td>\n",
       "      <td>Animal</td>\n",
       "      <td>Omnivorous</td>\n",
       "    </tr>\n",
       "    <tr>\n",
       "      <th>1</th>\n",
       "      <td>Almonds</td>\n",
       "      <td>21.3</td>\n",
       "      <td>19.7</td>\n",
       "      <td>50.6</td>\n",
       "      <td>577.0</td>\n",
       "      <td>Nuts</td>\n",
       "      <td>Non-animal</td>\n",
       "      <td>Vegan</td>\n",
       "    </tr>\n",
       "    <tr>\n",
       "      <th>2</th>\n",
       "      <td>Amaranth</td>\n",
       "      <td>14.5</td>\n",
       "      <td>66.2</td>\n",
       "      <td>6.5</td>\n",
       "      <td>374.0</td>\n",
       "      <td>Grains</td>\n",
       "      <td>Non-animal</td>\n",
       "      <td>Vegan</td>\n",
       "    </tr>\n",
       "    <tr>\n",
       "      <th>3</th>\n",
       "      <td>Anchovies</td>\n",
       "      <td>29.0</td>\n",
       "      <td>0.0</td>\n",
       "      <td>9.7</td>\n",
       "      <td>210.0</td>\n",
       "      <td>Fish</td>\n",
       "      <td>Animal</td>\n",
       "      <td>Omnivorous</td>\n",
       "    </tr>\n",
       "    <tr>\n",
       "      <th>4</th>\n",
       "      <td>Asparagus</td>\n",
       "      <td>2.4</td>\n",
       "      <td>4.1</td>\n",
       "      <td>0.2</td>\n",
       "      <td>22.0</td>\n",
       "      <td>Vegetables</td>\n",
       "      <td>Non-animal</td>\n",
       "      <td>Vegan</td>\n",
       "    </tr>\n",
       "  </tbody>\n",
       "</table>\n",
       "</div>"
      ],
      "text/plain": [
       "        food_name  proteins_100g  carbohydrates_100g  fat_100g  energy_100g  \\\n",
       "0  Alaskan salmon           25.4                 0.0       6.7        170.0   \n",
       "1         Almonds           21.3                19.7      50.6        577.0   \n",
       "2        Amaranth           14.5                66.2       6.5        374.0   \n",
       "3       Anchovies           29.0                 0.0       9.7        210.0   \n",
       "4       Asparagus            2.4                 4.1       0.2         22.0   \n",
       "\n",
       "  category_name      origin   diet_type  \n",
       "0          Fish      Animal  Omnivorous  \n",
       "1          Nuts  Non-animal       Vegan  \n",
       "2        Grains  Non-animal       Vegan  \n",
       "3          Fish      Animal  Omnivorous  \n",
       "4    Vegetables  Non-animal       Vegan  "
      ]
     },
     "execution_count": 22,
     "metadata": {},
     "output_type": "execute_result"
    }
   ],
   "source": [
    "import pandas as pd\n",
    "df = pd.read_csv(\"data/macros_dataset.csv\")\n",
    "df.head()"
   ]
  },
  {
   "attachments": {},
   "cell_type": "markdown",
   "metadata": {},
   "source": [
    "## Limpeza dos dados\n",
    "Será necessário verificar se existem dados faltantes ou com problemas, se existirem, será necessário tratar esses dados."
   ]
  },
  {
   "cell_type": "code",
   "execution_count": 23,
   "metadata": {},
   "outputs": [
    {
     "name": "stdout",
     "output_type": "stream",
     "text": [
      "There are 0 missing values in the dataset\n",
      "There are 0 duplicate rows in the dataset\n",
      "       proteins_100g  carbohydrates_100g   fat_100g  energy_100g\n",
      "count      60.000000           60.000000  60.000000    60.000000\n",
      "mean       19.263333           10.483333  13.256667   231.566667\n",
      "std        10.176093           15.565348  16.035473   163.310935\n",
      "min         2.000000            0.000000   0.200000    22.000000\n",
      "25%        12.475000            0.375000   1.975000   114.000000\n",
      "50%        21.000000            4.050000   6.450000   164.000000\n",
      "75%        25.175000           15.825000  20.925000   314.250000\n",
      "max        57.500000           67.400000  65.200000   653.000000\n",
      "Categorias:\n",
      " ['Fish' 'Nuts' 'Grains' 'Vegetables' 'Fruits' 'Beans' 'Cheese' 'Seeds'\n",
      " 'Meat' 'Legumes' 'Shellfish & Mollusks' 'Milk' 'Eggs' 'Soy Products'\n",
      " 'Yogurts' 'Vegan Meat Substitute']\n"
     ]
    },
    {
     "data": {
      "image/png": "[encoded data removed]",
      "text/plain": [
       "<Figure size 576x216 with 1 Axes>"
      ]
     },
     "metadata": {
      "needs_background": "light"
     },
     "output_type": "display_data"
    },
    {
     "data": {
      "application/vnd.plotly.v1+json": {
       "config": {
        "plotlyServerURL": "https://plot.ly"
       },
       "data": [
        {
         "alignmentgroup": "True",
         "customdata": [
          [
           "Alaskan salmon"
          ],
          [
           "Almonds"
          ],
          [
           "Amaranth"
          ],
          [
           "Anchovies"
          ],
          [
           "Asparagus"
          ],
          [
           "Avocado"
          ],
          [
           "Barley"
          ],
          [
           "Black beans (boiled)"
          ],
          [
           "Broccoli"
          ],
          [
           "Camembert"
          ],
          [
           "Cashew nuts"
          ],
          [
           "Cheddar"
          ],
          [
           "Chia seeds"
          ],
          [
           "Chicken Breast"
          ],
          [
           "Chickpeas (boiled)"
          ],
          [
           "Clam"
          ],
          [
           "Cod"
          ],
          [
           "Cottage cheese"
          ],
          [
           "Cow Milk"
          ],
          [
           "Crab"
          ],
          [
           "Cuttlefish"
          ],
          [
           "Duck breast"
          ],
          [
           "Edam"
          ],
          [
           "Edamame"
          ],
          [
           "Eggs"
          ],
          [
           "Feta"
          ],
          [
           "Firm Tofu"
          ],
          [
           "Goat Milk"
          ],
          [
           "Greek yogurt"
          ],
          [
           "Halibut"
          ],
          [
           "Lamb"
          ],
          [
           "Lean Beef"
          ],
          [
           "Lean Pork Chops"
          ],
          [
           "Lentils (boiled)"
          ],
          [
           "Lobster"
          ],
          [
           "Mackerel"
          ],
          [
           "Mozzarella"
          ],
          [
           "Mussel"
          ],
          [
           "Oats"
          ],
          [
           "Octopus"
          ],
          [
           "Parmesan"
          ],
          [
           "Peanut butter"
          ],
          [
           "Peanuts"
          ],
          [
           "Pistachios"
          ],
          [
           "Pumpkin & squash kernels (roasted)"
          ],
          [
           "Quinoa (cooked)"
          ],
          [
           "Ricotta"
          ],
          [
           "Sardines"
          ],
          [
           "Seitan"
          ],
          [
           "Shrimp"
          ],
          [
           "Soy Milk"
          ],
          [
           "Spirulina (dried)"
          ],
          [
           "Squid"
          ],
          [
           "Swiss cheese"
          ],
          [
           "Tempeh (cooked)"
          ],
          [
           "Tilapia"
          ],
          [
           "Tuna (Yellowfin)"
          ],
          [
           "Turkey breast"
          ],
          [
           "Walnuts"
          ],
          [
           "Wheat Germ"
          ],
          [
           "Alaskan salmon"
          ],
          [
           "Almonds"
          ],
          [
           "Amaranth"
          ],
          [
           "Anchovies"
          ],
          [
           "Asparagus"
          ],
          [
           "Avocado"
          ],
          [
           "Barley"
          ],
          [
           "Black beans (boiled)"
          ],
          [
           "Broccoli"
          ],
          [
           "Camembert"
          ],
          [
           "Cashew nuts"
          ],
          [
           "Cheddar"
          ],
          [
           "Chia seeds"
          ],
          [
           "Chicken Breast"
          ],
          [
           "Chickpeas (boiled)"
          ],
          [
           "Clam"
          ],
          [
           "Cod"
          ],
          [
           "Cottage cheese"
          ],
          [
           "Cow Milk"
          ],
          [
           "Crab"
          ],
          [
           "Cuttlefish"
          ],
          [
           "Duck breast"
          ],
          [
           "Edam"
          ],
          [
           "Edamame"
          ],
          [
           "Eggs"
          ],
          [
           "Feta"
          ],
          [
           "Firm Tofu"
          ],
          [
           "Goat Milk"
          ],
          [
           "Greek yogurt"
          ],
          [
           "Halibut"
          ],
          [
           "Lamb"
          ],
          [
           "Lean Beef"
          ],
          [
           "Lean Pork Chops"
          ],
          [
           "Lentils (boiled)"
          ],
          [
           "Lobster"
          ],
          [
           "Mackerel"
          ],
          [
           "Mozzarella"
          ],
          [
           "Mussel"
          ],
          [
           "Oats"
          ],
          [
           "Octopus"
          ],
          [
           "Parmesan"
          ],
          [
           "Peanut butter"
          ],
          [
           "Peanuts"
          ],
          [
           "Pistachios"
          ],
          [
           "Pumpkin & squash kernels (roasted)"
          ],
          [
           "Quinoa (cooked)"
          ],
          [
           "Ricotta"
          ],
          [
           "Sardines"
          ],
          [
           "Seitan"
          ],
          [
           "Shrimp"
          ],
          [
           "Soy Milk"
          ],
          [
           "Spirulina (dried)"
          ],
          [
           "Squid"
          ],
          [
           "Swiss cheese"
          ],
          [
           "Tempeh (cooked)"
          ],
          [
           "Tilapia"
          ],
          [
           "Tuna (Yellowfin)"
          ],
          [
           "Turkey breast"
          ],
          [
           "Walnuts"
          ],
          [
           "Wheat Germ"
          ],
          [
           "Alaskan salmon"
          ],
          [
           "Almonds"
          ],
          [
           "Amaranth"
          ],
          [
           "Anchovies"
          ],
          [
           "Asparagus"
          ],
          [
           "Avocado"
          ],
          [
           "Barley"
          ],
          [
           "Black beans (boiled)"
          ],
          [
           "Broccoli"
          ],
          [
           "Camembert"
          ],
          [
           "Cashew nuts"
          ],
          [
           "Cheddar"
          ],
          [
           "Chia seeds"
          ],
          [
           "Chicken Breast"
          ],
          [
           "Chickpeas (boiled)"
          ],
          [
           "Clam"
          ],
          [
           "Cod"
          ],
          [
           "Cottage cheese"
          ],
          [
           "Cow Milk"
          ],
          [
           "Crab"
          ],
          [
           "Cuttlefish"
          ],
          [
           "Duck breast"
          ],
          [
           "Edam"
          ],
          [
           "Edamame"
          ],
          [
           "Eggs"
          ],
          [
           "Feta"
          ],
          [
           "Firm Tofu"
          ],
          [
           "Goat Milk"
          ],
          [
           "Greek yogurt"
          ],
          [
           "Halibut"
          ],
          [
           "Lamb"
          ],
          [
           "Lean Beef"
          ],
          [
           "Lean Pork Chops"
          ],
          [
           "Lentils (boiled)"
          ],
          [
           "Lobster"
          ],
          [
           "Mackerel"
          ],
          [
           "Mozzarella"
          ],
          [
           "Mussel"
          ],
          [
           "Oats"
          ],
          [
           "Octopus"
          ],
          [
           "Parmesan"
          ],
          [
           "Peanut butter"
          ],
          [
           "Peanuts"
          ],
          [
           "Pistachios"
          ],
          [
           "Pumpkin & squash kernels (roasted)"
          ],
          [
           "Quinoa (cooked)"
          ],
          [
           "Ricotta"
          ],
          [
           "Sardines"
          ],
          [
           "Seitan"
          ],
          [
           "Shrimp"
          ],
          [
           "Soy Milk"
          ],
          [
           "Spirulina (dried)"
          ],
          [
           "Squid"
          ],
          [
           "Swiss cheese"
          ],
          [
           "Tempeh (cooked)"
          ],
          [
           "Tilapia"
          ],
          [
           "Tuna (Yellowfin)"
          ],
          [
           "Turkey breast"
          ],
          [
           "Walnuts"
          ],
          [
           "Wheat Germ"
          ]
         ],
         "hovertemplate": "variable=%{x}<br>value=%{y}<br>food_name=%{customdata[0]}<extra></extra>",
         "legendgroup": "",
         "marker": {
          "color": "#636efa"
         },
         "name": "",
         "notched": false,
         "offsetgroup": "",
         "orientation": "v",
         "showlegend": false,
         "type": "box",
         "x": [
          "proteins_100g",
          "proteins_100g",
          "proteins_100g",
          "proteins_100g",
          "proteins_100g",
          "proteins_100g",
          "proteins_100g",
          "proteins_100g",
          "proteins_100g",
          "proteins_100g",
          "proteins_100g",
          "proteins_100g",
          "proteins_100g",
          "proteins_100g",
          "proteins_100g",
          "proteins_100g",
          "proteins_100g",
          "proteins_100g",
          "proteins_100g",
          "proteins_100g",
          "proteins_100g",
          "proteins_100g",
          "proteins_100g",
          "proteins_100g",
          "proteins_100g",
          "proteins_100g",
          "proteins_100g",
          "proteins_100g",
          "proteins_100g",
          "proteins_100g",
          "proteins_100g",
          "proteins_100g",
          "proteins_100g",
          "proteins_100g",
          "proteins_100g",
          "proteins_100g",
          "proteins_100g",
          "proteins_100g",
          "proteins_100g",
          "proteins_100g",
          "proteins_100g",
          "proteins_100g",
          "proteins_100g",
          "proteins_100g",
          "proteins_100g",
          "proteins_100g",
          "proteins_100g",
          "proteins_100g",
          "proteins_100g",
          "proteins_100g",
          "proteins_100g",
          "proteins_100g",
          "proteins_100g",
          "proteins_100g",
          "proteins_100g",
          "proteins_100g",
          "proteins_100g",
          "proteins_100g",
          "proteins_100g",
          "proteins_100g",
          "carbohydrates_100g",
          "carbohydrates_100g",
          "carbohydrates_100g",
          "carbohydrates_100g",
          "carbohydrates_100g",
          "carbohydrates_100g",
          "carbohydrates_100g",
          "carbohydrates_100g",
          "carbohydrates_100g",
          "carbohydrates_100g",
          "carbohydrates_100g",
          "carbohydrates_100g",
          "carbohydrates_100g",
          "carbohydrates_100g",
          "carbohydrates_100g",
          "carbohydrates_100g",
          "carbohydrates_100g",
          "carbohydrates_100g",
          "carbohydrates_100g",
          "carbohydrates_100g",
          "carbohydrates_100g",
          "carbohydrates_100g",
          "carbohydrates_100g",
          "carbohydrates_100g",
          "carbohydrates_100g",
          "carbohydrates_100g",
          "carbohydrates_100g",
          "carbohydrates_100g",
          "carbohydrates_100g",
          "carbohydrates_100g",
          "carbohydrates_100g",
          "carbohydrates_100g",
          "carbohydrates_100g",
          "carbohydrates_100g",
          "carbohydrates_100g",
          "carbohydrates_100g",
          "carbohydrates_100g",
          "carbohydrates_100g",
          "carbohydrates_100g",
          "carbohydrates_100g",
          "carbohydrates_100g",
          "carbohydrates_100g",
          "carbohydrates_100g",
          "carbohydrates_100g",
          "carbohydrates_100g",
          "carbohydrates_100g",
          "carbohydrates_100g",
          "carbohydrates_100g",
          "carbohydrates_100g",
          "carbohydrates_100g",
          "carbohydrates_100g",
          "carbohydrates_100g",
          "carbohydrates_100g",
          "carbohydrates_100g",
          "carbohydrates_100g",
          "carbohydrates_100g",
          "carbohydrates_100g",
          "carbohydrates_100g",
          "carbohydrates_100g",
          "carbohydrates_100g",
          "fat_100g",
          "fat_100g",
          "fat_100g",
          "fat_100g",
          "fat_100g",
          "fat_100g",
          "fat_100g",
          "fat_100g",
          "fat_100g",
          "fat_100g",
          "fat_100g",
          "fat_100g",
          "fat_100g",
          "fat_100g",
          "fat_100g",
          "fat_100g",
          "fat_100g",
          "fat_100g",
          "fat_100g",
          "fat_100g",
          "fat_100g",
          "fat_100g",
          "fat_100g",
          "fat_100g",
          "fat_100g",
          "fat_100g",
          "fat_100g",
          "fat_100g",
          "fat_100g",
          "fat_100g",
          "fat_100g",
          "fat_100g",
          "fat_100g",
          "fat_100g",
          "fat_100g",
          "fat_100g",
          "fat_100g",
          "fat_100g",
          "fat_100g",
          "fat_100g",
          "fat_100g",
          "fat_100g",
          "fat_100g",
          "fat_100g",
          "fat_100g",
          "fat_100g",
          "fat_100g",
          "fat_100g",
          "fat_100g",
          "fat_100g",
          "fat_100g",
          "fat_100g",
          "fat_100g",
          "fat_100g",
          "fat_100g",
          "fat_100g",
          "fat_100g",
          "fat_100g",
          "fat_100g",
          "fat_100g"
         ],
         "x0": " ",
         "xaxis": "x",
         "y": [
          25.4,
          21.3,
          14.5,
          29,
          2.4,
          2,
          2.3,
          8.9,
          2.4,
          19.8,
          18.2,
          25,
          15.6,
          31,
          8.9,
          25.5,
          22.8,
          12.5,
          3.3,
          21,
          32.5,
          22.2,
          25,
          12.4,
          12.6,
          14.2,
          8.4,
          3.6,
          7,
          26.7,
          24.3,
          21,
          29,
          9,
          20.5,
          23.2,
          22.2,
          23.8,
          14.6,
          29.8,
          35.8,
          25.1,
          27.2,
          20.6,
          29,
          4.4,
          11.5,
          24.6,
          21.2,
          20.3,
          4.5,
          57.5,
          17,
          27,
          18.2,
          26.2,
          24.5,
          29,
          15.2,
          23.2,
          0,
          19.7,
          66.2,
          0,
          4.1,
          8.5,
          28.2,
          23.7,
          7.2,
          0.5,
          30.2,
          1.3,
          43.9,
          0,
          27.4,
          5.1,
          0,
          2.7,
          4.7,
          0,
          1.6,
          0,
          1.4,
          11.1,
          0.7,
          4.1,
          1.7,
          4.4,
          4,
          0,
          0,
          0,
          0,
          20.1,
          1.3,
          0,
          2.2,
          7.4,
          67.4,
          4.4,
          3.2,
          19.6,
          16.2,
          28,
          15.7,
          21.3,
          3,
          0,
          3.5,
          0.9,
          5,
          24,
          3.1,
          5.4,
          9.4,
          0,
          0,
          0,
          13.7,
          51.8,
          6.7,
          50.6,
          6.5,
          9.7,
          0.2,
          14.7,
          0.4,
          0.5,
          0.4,
          24.3,
          43.9,
          33.1,
          30.8,
          3.6,
          2.6,
          2,
          0.9,
          4.5,
          2,
          1.5,
          1.4,
          7.6,
          27.8,
          6.4,
          9.5,
          21.3,
          4.2,
          4,
          5.4,
          2.9,
          20.8,
          7,
          13.1,
          0.4,
          0.6,
          15.8,
          22.4,
          4.5,
          6.4,
          2.1,
          25.8,
          50.4,
          49.4,
          44.4,
          44,
          1.9,
          13,
          11.5,
          1.2,
          1.7,
          2,
          7.7,
          1.4,
          27.8,
          11.4,
          2.7,
          1,
          0.7,
          65.2,
          9.7
         ],
         "y0": " ",
         "yaxis": "y"
        }
       ],
       "layout": {
        "boxmode": "group",
        "legend": {
         "tracegroupgap": 0
        },
        "margin": {
         "t": 60
        },
        "template": {
         "data": {
          "bar": [
           {
            "error_x": {
             "color": "#2a3f5f"
            },
            "error_y": {
             "color": "#2a3f5f"
            },
            "marker": {
             "line": {
              "color": "#E5ECF6",
              "width": 0.5
             },
             "pattern": {
              "fillmode": "overlay",
              "size": 10,
              "solidity": 0.2
             }
            },
            "type": "bar"
           }
          ],
          "barpolar": [
           {
            "marker": {
             "line": {
              "color": "#E5ECF6",
              "width": 0.5
             },
             "pattern": {
              "fillmode": "overlay",
              "size": 10,
              "solidity": 0.2
             }
            },
            "type": "barpolar"
           }
          ],
          "carpet": [
           {
            "aaxis": {
             "endlinecolor": "#2a3f5f",
             "gridcolor": "white",
             "linecolor": "white",
             "minorgridcolor": "white",
             "startlinecolor": "#2a3f5f"
            },
            "baxis": {
             "endlinecolor": "#2a3f5f",
             "gridcolor": "white",
             "linecolor": "white",
             "minorgridcolor": "white",
             "startlinecolor": "#2a3f5f"
            },
            "type": "carpet"
           }
          ],
          "choropleth": [
           {
            "colorbar": {
             "outlinewidth": 0,
             "ticks": ""
            },
            "type": "choropleth"
           }
          ],
          "contour": [
           {
            "colorbar": {
             "outlinewidth": 0,
             "ticks": ""
            },
            "colorscale": [
             [
              0,
              "#0d0887"
             ],
             [
              0.1111111111111111,
              "#46039f"
             ],
             [
              0.2222222222222222,
              "#7201a8"
             ],
             [
              0.3333333333333333,
              "#9c179e"
             ],
             [
              0.4444444444444444,
              "#bd3786"
             ],
             [
              0.5555555555555556,
              "#d8576b"
             ],
             [
              0.6666666666666666,
              "#ed7953"
             ],
             [
              0.7777777777777778,
              "#fb9f3a"
             ],
             [
              0.8888888888888888,
              "#fdca26"
             ],
             [
              1,
              "#f0f921"
             ]
            ],
            "type": "contour"
           }
          ],
          "contourcarpet": [
           {
            "colorbar": {
             "outlinewidth": 0,
             "ticks": ""
            },
            "type": "contourcarpet"
           }
          ],
          "heatmap": [
           {
            "colorbar": {
             "outlinewidth": 0,
             "ticks": ""
            },
            "colorscale": [
             [
              0,
              "#0d0887"
             ],
             [
              0.1111111111111111,
              "#46039f"
             ],
             [
              0.2222222222222222,
              "#7201a8"
             ],
             [
              0.3333333333333333,
              "#9c179e"
             ],
             [
              0.4444444444444444,
              "#bd3786"
             ],
             [
              0.5555555555555556,
              "#d8576b"
             ],
             [
              0.6666666666666666,
              "#ed7953"
             ],
             [
              0.7777777777777778,
              "#fb9f3a"
             ],
             [
              0.8888888888888888,
              "#fdca26"
             ],
             [
              1,
              "#f0f921"
             ]
            ],
            "type": "heatmap"
           }
          ],
          "heatmapgl": [
           {
            "colorbar": {
             "outlinewidth": 0,
             "ticks": ""
            },
            "colorscale": [
             [
              0,
              "#0d0887"
             ],
             [
              0.1111111111111111,
              "#46039f"
             ],
             [
              0.2222222222222222,
              "#7201a8"
             ],
             [
              0.3333333333333333,
              "#9c179e"
             ],
             [
              0.4444444444444444,
              "#bd3786"
             ],
             [
              0.5555555555555556,
              "#d8576b"
             ],
             [
              0.6666666666666666,
              "#ed7953"
             ],
             [
              0.7777777777777778,
              "#fb9f3a"
             ],
             [
              0.8888888888888888,
              "#fdca26"
             ],
             [
              1,
              "#f0f921"
             ]
            ],
            "type": "heatmapgl"
           }
          ],
          "histogram": [
           {
            "marker": {
             "pattern": {
              "fillmode": "overlay",
              "size": 10,
              "solidity": 0.2
             }
            },
            "type": "histogram"
           }
          ],
          "histogram2d": [
           {
            "colorbar": {
             "outlinewidth": 0,
             "ticks": ""
            },
            "colorscale": [
             [
              0,
              "#0d0887"
             ],
             [
              0.1111111111111111,
              "#46039f"
             ],
             [
              0.2222222222222222,
              "#7201a8"
             ],
             [
              0.3333333333333333,
              "#9c179e"
             ],
             [
              0.4444444444444444,
              "#bd3786"
             ],
             [
              0.5555555555555556,
              "#d8576b"
             ],
             [
              0.6666666666666666,
              "#ed7953"
             ],
             [
              0.7777777777777778,
              "#fb9f3a"
             ],
             [
              0.8888888888888888,
              "#fdca26"
             ],
             [
              1,
              "#f0f921"
             ]
            ],
            "type": "histogram2d"
           }
          ],
          "histogram2dcontour": [
           {
            "colorbar": {
             "outlinewidth": 0,
             "ticks": ""
            },
            "colorscale": [
             [
              0,
              "#0d0887"
             ],
             [
              0.1111111111111111,
              "#46039f"
             ],
             [
              0.2222222222222222,
              "#7201a8"
             ],
             [
              0.3333333333333333,
              "#9c179e"
             ],
             [
              0.4444444444444444,
              "#bd3786"
             ],
             [
              0.5555555555555556,
              "#d8576b"
             ],
             [
              0.6666666666666666,
              "#ed7953"
             ],
             [
              0.7777777777777778,
              "#fb9f3a"
             ],
             [
              0.8888888888888888,
              "#fdca26"
             ],
             [
              1,
              "#f0f921"
             ]
            ],
            "type": "histogram2dcontour"
           }
          ],
          "mesh3d": [
           {
            "colorbar": {
             "outlinewidth": 0,
             "ticks": ""
            },
            "type": "mesh3d"
           }
          ],
          "parcoords": [
           {
            "line": {
             "colorbar": {
              "outlinewidth": 0,
              "ticks": ""
             }
            },
            "type": "parcoords"
           }
          ],
          "pie": [
           {
            "automargin": true,
            "type": "pie"
           }
          ],
          "scatter": [
           {
            "fillpattern": {
             "fillmode": "overlay",
             "size": 10,
             "solidity": 0.2
            },
            "type": "scatter"
           }
          ],
          "scatter3d": [
           {
            "line": {
             "colorbar": {
              "outlinewidth": 0,
              "ticks": ""
             }
            },
            "marker": {
             "colorbar": {
              "outlinewidth": 0,
              "ticks": ""
             }
            },
            "type": "scatter3d"
           }
          ],
          "scattercarpet": [
           {
            "marker": {
             "colorbar": {
              "outlinewidth": 0,
              "ticks": ""
             }
            },
            "type": "scattercarpet"
           }
          ],
          "scattergeo": [
           {
            "marker": {
             "colorbar": {
              "outlinewidth": 0,
              "ticks": ""
             }
            },
            "type": "scattergeo"
           }
          ],
          "scattergl": [
           {
            "marker": {
             "colorbar": {
              "outlinewidth": 0,
              "ticks": ""
             }
            },
            "type": "scattergl"
           }
          ],
          "scattermapbox": [
           {
            "marker": {
             "colorbar": {
              "outlinewidth": 0,
              "ticks": ""
             }
            },
            "type": "scattermapbox"
           }
          ],
          "scatterpolar": [
           {
            "marker": {
             "colorbar": {
              "outlinewidth": 0,
              "ticks": ""
             }
            },
            "type": "scatterpolar"
           }
          ],
          "scatterpolargl": [
           {
            "marker": {
             "colorbar": {
              "outlinewidth": 0,
              "ticks": ""
             }
            },
            "type": "scatterpolargl"
           }
          ],
          "scatterternary": [
           {
            "marker": {
             "colorbar": {
              "outlinewidth": 0,
              "ticks": ""
             }
            },
            "type": "scatterternary"
           }
          ],
          "surface": [
           {
            "colorbar": {
             "outlinewidth": 0,
             "ticks": ""
            },
            "colorscale": [
             [
              0,
              "#0d0887"
             ],
             [
              0.1111111111111111,
              "#46039f"
             ],
             [
              0.2222222222222222,
              "#7201a8"
             ],
             [
              0.3333333333333333,
              "#9c179e"
             ],
             [
              0.4444444444444444,
              "#bd3786"
             ],
             [
              0.5555555555555556,
              "#d8576b"
             ],
             [
              0.6666666666666666,
              "#ed7953"
             ],
             [
              0.7777777777777778,
              "#fb9f3a"
             ],
             [
              0.8888888888888888,
              "#fdca26"
             ],
             [
              1,
              "#f0f921"
             ]
            ],
            "type": "surface"
           }
          ],
          "table": [
           {
            "cells": {
             "fill": {
              "color": "#EBF0F8"
             },
             "line": {
              "color": "white"
             }
            },
            "header": {
             "fill": {
              "color": "#C8D4E3"
             },
             "line": {
              "color": "white"
             }
            },
            "type": "table"
           }
          ]
         },
         "layout": {
          "annotationdefaults": {
           "arrowcolor": "#2a3f5f",
           "arrowhead": 0,
           "arrowwidth": 1
          },
          "autotypenumbers": "strict",
          "coloraxis": {
           "colorbar": {
            "outlinewidth": 0,
            "ticks": ""
           }
          },
          "colorscale": {
           "diverging": [
            [
             0,
             "#8e0152"
            ],
            [
             0.1,
             "#c51b7d"
            ],
            [
             0.2,
             "#de77ae"
            ],
            [
             0.3,
             "#f1b6da"
            ],
            [
             0.4,
             "#fde0ef"
            ],
            [
             0.5,
             "#f7f7f7"
            ],
            [
             0.6,
             "#e6f5d0"
            ],
            [
             0.7,
             "#b8e186"
            ],
            [
             0.8,
             "#7fbc41"
            ],
            [
             0.9,
             "#4d9221"
            ],
            [
             1,
             "#276419"
            ]
           ],
           "sequential": [
            [
             0,
             "#0d0887"
            ],
            [
             0.1111111111111111,
             "#46039f"
            ],
            [
             0.2222222222222222,
             "#7201a8"
            ],
            [
             0.3333333333333333,
             "#9c179e"
            ],
            [
             0.4444444444444444,
             "#bd3786"
            ],
            [
             0.5555555555555556,
             "#d8576b"
            ],
            [
             0.6666666666666666,
             "#ed7953"
            ],
            [
             0.7777777777777778,
             "#fb9f3a"
            ],
            [
             0.8888888888888888,
             "#fdca26"
            ],
            [
             1,
             "#f0f921"
            ]
           ],
           "sequentialminus": [
            [
             0,
             "#0d0887"
            ],
            [
             0.1111111111111111,
             "#46039f"
            ],
            [
             0.2222222222222222,
             "#7201a8"
            ],
            [
             0.3333333333333333,
             "#9c179e"
            ],
            [
             0.4444444444444444,
             "#bd3786"
            ],
            [
             0.5555555555555556,
             "#d8576b"
            ],
            [
             0.6666666666666666,
             "#ed7953"
            ],
            [
             0.7777777777777778,
             "#fb9f3a"
            ],
            [
             0.8888888888888888,
             "#fdca26"
            ],
            [
             1,
             "#f0f921"
            ]
           ]
          },
          "colorway": [
           "#636efa",
           "#EF553B",
           "#00cc96",
           "#ab63fa",
           "#FFA15A",
           "#19d3f3",
           "#FF6692",
           "#B6E880",
           "#FF97FF",
           "#FECB52"
          ],
          "font": {
           "color": "#2a3f5f"
          },
          "geo": {
           "bgcolor": "white",
           "lakecolor": "white",
           "landcolor": "#E5ECF6",
           "showlakes": true,
           "showland": true,
           "subunitcolor": "white"
          },
          "hoverlabel": {
           "align": "left"
          },
          "hovermode": "closest",
          "mapbox": {
           "style": "light"
          },
          "paper_bgcolor": "white",
          "plot_bgcolor": "#E5ECF6",
          "polar": {
           "angularaxis": {
            "gridcolor": "white",
            "linecolor": "white",
            "ticks": ""
           },
           "bgcolor": "#E5ECF6",
           "radialaxis": {
            "gridcolor": "white",
            "linecolor": "white",
            "ticks": ""
           }
          },
          "scene": {
           "xaxis": {
            "backgroundcolor": "#E5ECF6",
            "gridcolor": "white",
            "gridwidth": 2,
            "linecolor": "white",
            "showbackground": true,
            "ticks": "",
            "zerolinecolor": "white"
           },
           "yaxis": {
            "backgroundcolor": "#E5ECF6",
            "gridcolor": "white",
            "gridwidth": 2,
            "linecolor": "white",
            "showbackground": true,
            "ticks": "",
            "zerolinecolor": "white"
           },
           "zaxis": {
            "backgroundcolor": "#E5ECF6",
            "gridcolor": "white",
            "gridwidth": 2,
            "linecolor": "white",
            "showbackground": true,
            "ticks": "",
            "zerolinecolor": "white"
           }
          },
          "shapedefaults": {
           "line": {
            "color": "#2a3f5f"
           }
          },
          "ternary": {
           "aaxis": {
            "gridcolor": "white",
            "linecolor": "white",
            "ticks": ""
           },
           "baxis": {
            "gridcolor": "white",
            "linecolor": "white",
            "ticks": ""
           },
           "bgcolor": "#E5ECF6",
           "caxis": {
            "gridcolor": "white",
            "linecolor": "white",
            "ticks": ""
           }
          },
          "title": {
           "x": 0.05
          },
          "xaxis": {
           "automargin": true,
           "gridcolor": "white",
           "linecolor": "white",
           "ticks": "",
           "title": {
            "standoff": 15
           },
           "zerolinecolor": "white",
           "zerolinewidth": 2
          },
          "yaxis": {
           "automargin": true,
           "gridcolor": "white",
           "linecolor": "white",
           "ticks": "",
           "title": {
            "standoff": 15
           },
           "zerolinecolor": "white",
           "zerolinewidth": 2
          }
         }
        },
        "xaxis": {
         "anchor": "y",
         "domain": [
          0,
          1
         ],
         "title": {
          "text": "variable"
         }
        },
        "yaxis": {
         "anchor": "x",
         "domain": [
          0,
          1
         ],
         "title": {
          "text": "value"
         }
        }
       }
      }
     },
     "metadata": {},
     "output_type": "display_data"
    }
   ],
   "source": [
    "# let's see if there are any missing values\n",
    "missing = df.isnull().sum().sum()\n",
    "print(\"There are {} missing values in the dataset\".format(missing))\n",
    "\n",
    "# let's see if there are any duplicate rows\n",
    "duplicates = df.duplicated().sum()\n",
    "print(\"There are {} duplicate rows in the dataset\".format(duplicates))\n",
    "\n",
    "# let's see a summary of the dataset\n",
    "print(df.describe())\n",
    "\n",
    "# let's see the categories of the data\n",
    "print(\"Categorias:\\n\", df[\"category_name\"].unique())\n",
    "\n",
    "# let's see if there are any outliers\n",
    "import matplotlib.pyplot as plt\n",
    "import seaborn as sns\n",
    "plt.figure(figsize=(8, 3))\n",
    "sns.boxplot(data=df)\n",
    "plt.show()\n",
    "\n",
    "# let's see the box plot again but only for the columns \"proteins_100g\", \"carbohydrates_100g\" and \"fat_100g\", and for the hover data we will use the \"food_name\" column\n",
    "import plotly.express as px\n",
    "fig = px.box(df, y=[\"proteins_100g\", \"carbohydrates_100g\", \"fat_100g\"], hover_data=[\"food_name\"])\n",
    "fig.show()\n",
    "\n",
    "# I could remove the \"Spirulina (dried)\" row, because it is an outlier, but I will not do it because I want to keep the original dataset\n",
    "# df = df[df[\"food_name\"] != \"Spirulina (dried)\"]\n",
    "\n",
    "    "
   ]
  },
  {
   "attachments": {},
   "cell_type": "markdown",
   "metadata": {},
   "source": [
    "## Visualizações dos dados\n",
    "Agora que os dados estão limpos, será possível fazer algumas visualizações para entender melhor os dados."
   ]
  },
  {
   "cell_type": "code",
   "execution_count": 24,
   "metadata": {},
   "outputs": [
    {
     "data": {
      "text/plain": [
       "<AxesSubplot:ylabel='category_name'>"
      ]
     },
     "execution_count": 24,
     "metadata": {},
     "output_type": "execute_result"
    },
    {
     "data": {
      "image/png": "[encoded data removed]",
      "text/plain": [
       "<Figure size 432x288 with 1 Axes>"
      ]
     },
     "metadata": {
      "needs_background": "light"
     },
     "output_type": "display_data"
    }
   ],
   "source": [
    "# let's see a horizontal bar plot of the mean protein_100g per category\n",
    "df.groupby(\"category_name\")[\"proteins_100g\"].mean().sort_values().plot(kind=\"barh\", color=\"red\")"
   ]
  },
  {
   "cell_type": "code",
   "execution_count": 25,
   "metadata": {},
   "outputs": [
    {
     "data": {
      "text/plain": [
       "<AxesSubplot:ylabel='category_name'>"
      ]
     },
     "execution_count": 25,
     "metadata": {},
     "output_type": "execute_result"
    },
    {
     "data": {
      "image/png": "[encoded data removed]",
      "text/plain": [
       "<Figure size 720x720 with 1 Axes>"
      ]
     },
     "metadata": {
      "needs_background": "light"
     },
     "output_type": "display_data"
    }
   ],
   "source": [
    "# let's create a new column with the energy / 100, because the energy have a very high value\n",
    "df[\"energy_10g\"] = df[\"energy_100g\"] / 10\n",
    "\n",
    "df.groupby(\"category_name\")[[\"carbohydrates_100g\", \"fat_100g\", \"energy_10g\", \"proteins_100g\"]].mean().sort_values(by=\"proteins_100g\").plot(kind=\"barh\", width=0.8, figsize=(10, 10))"
   ]
  },
  {
   "attachments": {},
   "cell_type": "markdown",
   "metadata": {},
   "source": [
    "## Visualização dos dados\n",
    "Como estou tratando de alimentos, é interessante utilizar imagens para ilustrar cada alimento, para isso será necessário aprimorar nosso conjunto de dados com essas imagens já que ele não possui nada do tipo.\n",
    "\n",
    "### Coluna `image_url`\n",
    "A forma escolhida foi a criação de uma coluna `image_url` que contém o link para a imagem do alimento, para isso utilizei de web scraping para extrair os links do primeiro resultado da busca no Google Images para cada imagem do conjunto de dados (essa forma deve ser trocada, pois podem existir problemas com direitos autorais, mas foi uma maneira rápida de conseguir as imagens)."
   ]
  },
  {
   "cell_type": "code",
   "execution_count": 26,
   "metadata": {},
   "outputs": [],
   "source": [
    "from bs4 import BeautifulSoup\n",
    "import requests\n",
    "\n",
    "DO_THE_SEARCH = False\n",
    "\n",
    "def get_google_img(query):\n",
    "    \"\"\"\n",
    "    gets a link to the first google image search result\n",
    "    :param query: search query string\n",
    "    :result: url string to first result\n",
    "    \"\"\"\n",
    "    url = \"https://www.google.com/search?q=\" + str(query) + \"&source=lnms&tbm=isch\"\n",
    "    headers={'User-Agent':\"Mozilla/5.0 (Windows NT 6.1; WOW64) AppleWebKit/537.36 (KHTML, like Gecko) Chrome/43.0.2357.134 Safari/537.36\"}\n",
    "\n",
    "    html = requests.get(url, headers=headers).text\n",
    "\n",
    "    soup = BeautifulSoup(html, 'html.parser')\n",
    "    image = soup.select(\"a>div>img\")[0]\n",
    "\n",
    "    if not image:\n",
    "        return \n",
    "    return image['src']\n",
    "\n",
    "if DO_THE_SEARCH:\n",
    "    # let's add the image url of each food_name+category_name to the dataframe\n",
    "    df['image_url'] = df.apply(lambda x: get_google_img(x['food_name'] + \" \" + x['category_name']), axis=1)\n",
    "\n",
    "    # let's manually change some urls that are not correct\n",
    "    df.loc[df[\"food_name\"] == \"Lean Beef\", \"image_url\"] = \"https://bbqchamps.com/wp-content/uploads/2021/08/lean-beef-options-Tenderloin-Roast.png\"\n",
    "\n",
    "\n",
    "    # let's save the dataframe to a csv file\n",
    "    df.to_csv(\"data/macros_dataset_images.csv\", index=False)"
   ]
  },
  {
   "attachments": {},
   "cell_type": "markdown",
   "metadata": {},
   "source": [
    "### Distribuição dos alimentos\n",
    "Agora que temos as imagens, podemos fazer uma visualização dos alimentos, para isso utilizei o `plotly` para fazer um scatter plot com as imagens dos alimentos.\n",
    "\n",
    "Primeiro temos o plot base, e depois temos o plot com as imagens dos alimentos."
   ]
  },
  {
   "cell_type": "code",
   "execution_count": 27,
   "metadata": {},
   "outputs": [
    {
     "data": {
      "application/vnd.plotly.v1+json": {
       "config": {
        "plotlyServerURL": "https://plot.ly"
       },
       "data": [
        {
         "customdata": [
          [
           170,
           "https://encrypted-tbn0.gstatic.com/images?q=tbn:ANd9GcRN11uxsdawvQDErbIwl3foRY_YyxWtz5_IQwKWt4gulmtOcWbk1q9STOK-6-E&s"
          ],
          [
           210,
           "https://encrypted-tbn0.gstatic.com/images?q=tbn:ANd9GcSZlktTjDgQ38IRcWCwVgV4xywxDVc-B6pYeOVQBHTwq6qD5JVm3DajCj0PsQ&s"
          ],
          [
           105,
           "https://encrypted-tbn0.gstatic.com/images?q=tbn:ANd9GcQ1TfT74abWT9o4jmH5gJMBorLTTLoE_jwQVGUv6Cts4BGGzfsQ_KVRshEUECI&s"
          ],
          [
           140,
           "https://encrypted-tbn0.gstatic.com/images?q=tbn:ANd9GcQtV0-yNWFp1RLj6hL_5BtPB9NJJbjmcJN7GH1MC0tz_2uEQhbiXnMRTchl1g&s"
          ],
          [
           242,
           "https://encrypted-tbn0.gstatic.com/images?q=tbn:ANd9GcS1yKfd_QVgem1mjtPoSy-YgDa6Vyh6edTryqxdz67mwJ14P7F-5pRUjP_BXNs&s"
          ],
          [
           208,
           "https://encrypted-tbn0.gstatic.com/images?q=tbn:ANd9GcQ25M_NXQlGAoUD-bxcexuwc8YwRnlFt84oxdEjZm5dqLTOywvXVfThxpkg7w&s"
          ],
          [
           128,
           "https://encrypted-tbn0.gstatic.com/images?q=tbn:ANd9GcSCNhUGQeIb2fIZII6gZ2lykmKPKtQ0M3v_WvMZD2Kzf5IaxEuZkilIzBIsCg&s"
          ],
          [
           108,
           "https://encrypted-tbn0.gstatic.com/images?q=tbn:ANd9GcRCa3WyByPOwXI_S1YNUxXMljjAIdf4koz7LJ6w9S88D-MJcZnUAsWvvQ_b5sw&s"
          ]
         ],
         "hovertemplate": "<b>%{hovertext}</b><br><br>Fat: %{x:.2f}g<br>Proteins: %{y:.2f}g<br>Energy: %{customdata[0]:.2f}kcal<br><extra><img src='%{customdata[1]}'></extra>",
         "hovertext": [
          "Alaskan salmon",
          "Anchovies",
          "Cod",
          "Halibut",
          "Mackerel",
          "Sardines",
          "Tilapia",
          "Tuna (Yellowfin)"
         ],
         "legendgroup": "Fish",
         "marker": {
          "color": "#0077C9",
          "size": 10,
          "sizemode": "area",
          "sizeref": 1.6325,
          "symbol": "circle"
         },
         "mode": "markers",
         "name": "Fish",
         "orientation": "v",
         "showlegend": true,
         "type": "scatter",
         "x": [
          6.7,
          9.7,
          0.9,
          2.9,
          15.8,
          11.5,
          2.7,
          1
         ],
         "xaxis": "x",
         "y": [
          25.4,
          29,
          22.8,
          26.7,
          23.2,
          24.6,
          26.2,
          24.5
         ],
         "yaxis": "y"
        },
        {
         "customdata": [
          [
           577,
           "https://encrypted-tbn0.gstatic.com/images?q=tbn:ANd9GcQXSstOP51sBq49DjSXcE_97bCAJNYNhi-CWaR1WhBUw0RL8fCo_zRULAf8AxM&s"
          ],
          [
           552,
           "https://encrypted-tbn0.gstatic.com/images?q=tbn:ANd9GcRrLSotb9b5PbSuc5mB9hQ_GP9OANsJR6A5DoC0ep_1Y4eQ_QkIsDaqBJAlHw&s"
          ],
          [
           588,
           "https://encrypted-tbn0.gstatic.com/images?q=tbn:ANd9GcTrAQTaYH2ZWSELcMm60r5s9ceOD9vNvRYmRcpKvfJCPptVsJnhIXv8a7nirPY&s"
          ],
          [
           573,
           "https://encrypted-tbn0.gstatic.com/images?q=tbn:ANd9GcQ3VW97aJk9m-Xj54KjNM0bvg8qudXi3Wpq7UrPCZ7SeuozanowldHzQe_lQ10&s"
          ],
          [
           556,
           "https://encrypted-tbn0.gstatic.com/images?q=tbn:ANd9GcRoP5JzKQsRceTIG1K9WxpePgg842gzVi5nk_PSgrgMzyN15T09bNrmMm3l-w&s"
          ],
          [
           653,
           "https://encrypted-tbn0.gstatic.com/images?q=tbn:ANd9GcTHSR1cZt3IjxNRw8mS_KKHfcjTw-JbUuBDoNzW7EBbepOhPADuKecl69YX-Gc&s"
          ]
         ],
         "hovertemplate": "<b>%{hovertext}</b><br><br>Fat: %{x:.2f}g<br>Proteins: %{y:.2f}g<br>Energy: %{customdata[0]:.2f}kcal<br><extra><img src='%{customdata[1]}'></extra>",
         "hovertext": [
          "Almonds",
          "Cashew nuts",
          "Peanut butter",
          "Peanuts",
          "Pistachios",
          "Walnuts"
         ],
         "legendgroup": "Nuts",
         "marker": {
          "color": "#8B4513",
          "size": 10,
          "sizemode": "area",
          "sizeref": 1.6325,
          "symbol": "circle"
         },
         "mode": "markers",
         "name": "Nuts",
         "orientation": "v",
         "showlegend": true,
         "type": "scatter",
         "x": [
          50.6,
          43.9,
          50.4,
          49.4,
          44.4,
          65.2
         ],
         "xaxis": "x",
         "y": [
          21.3,
          18.2,
          25.1,
          27.2,
          20.6,
          15.2
         ],
         "yaxis": "y"
        },
        {
         "customdata": [
          [
           374,
           "https://encrypted-tbn0.gstatic.com/images?q=tbn:ANd9GcQHCbzK_Ou-FFDqwVdDarJD2ZuttiCKJp1oHPdzwOfql45GZkgbC2Z69PKzCw&s"
          ],
          [
           123,
           "https://encrypted-tbn0.gstatic.com/images?q=tbn:ANd9GcQD5_eFwHVGD__yKI4EH5r4bcuLjqvc5SSSQVn3lDSpDyBqli_7FtaAltpZrG8&s"
          ],
          [
           382,
           "https://encrypted-tbn0.gstatic.com/images?q=tbn:ANd9GcTuKfsydaSFYaw0GiOQp0j7CciQ-ZUTty2w0npxEzX335Qb0rrFMS7Pd2tKpMI&s"
          ],
          [
           120,
           "https://encrypted-tbn0.gstatic.com/images?q=tbn:ANd9GcSrd_oZ86ZJOWUgkxJDURZcMp53CdWg_HSFRp3cyDnyEa0ur9MgCiaK0e8Pu4c&s"
          ],
          [
           360,
           "https://encrypted-tbn0.gstatic.com/images?q=tbn:ANd9GcS23ouFqlBHtxqiKNvHKbhiOWKNnNz_g8ocRnRlcLQsHWmGaYAKL2U5DSsEwoc&s"
          ]
         ],
         "hovertemplate": "<b>%{hovertext}</b><br><br>Fat: %{x:.2f}g<br>Proteins: %{y:.2f}g<br>Energy: %{customdata[0]:.2f}kcal<br><extra><img src='%{customdata[1]}'></extra>",
         "hovertext": [
          "Amaranth",
          "Barley",
          "Oats",
          "Quinoa (cooked)",
          "Wheat Germ"
         ],
         "legendgroup": "Grains",
         "marker": {
          "color": "#F5E042",
          "size": 10,
          "sizemode": "area",
          "sizeref": 1.6325,
          "symbol": "circle"
         },
         "mode": "markers",
         "name": "Grains",
         "orientation": "v",
         "showlegend": true,
         "type": "scatter",
         "x": [
          6.5,
          0.4,
          6.4,
          1.9,
          9.7
         ],
         "xaxis": "x",
         "y": [
          14.5,
          2.3,
          14.6,
          4.4,
          23.2
         ],
         "yaxis": "y"
        },
        {
         "customdata": [
          [
           22,
           "https://encrypted-tbn0.gstatic.com/images?q=tbn:ANd9GcRSB-8xBXSgD5XHjpZnRNjso0ubF9yKmiJG_bXy6S_i15lurh_qTfA0vuQ5i_A&s"
          ],
          [
           35,
           "https://encrypted-tbn0.gstatic.com/images?q=tbn:ANd9GcQylec9j5Y9ErEx1Bpx80kYahhjuzI8-pxHN0a-ewr6HQ83JJWgbdYsch1vG8U&s"
          ]
         ],
         "hovertemplate": "<b>%{hovertext}</b><br><br>Fat: %{x:.2f}g<br>Proteins: %{y:.2f}g<br>Energy: %{customdata[0]:.2f}kcal<br><extra><img src='%{customdata[1]}'></extra>",
         "hovertext": [
          "Asparagus",
          "Broccoli"
         ],
         "legendgroup": "Vegetables",
         "marker": {
          "color": "#4EB265",
          "size": 10,
          "sizemode": "area",
          "sizeref": 1.6325,
          "symbol": "circle"
         },
         "mode": "markers",
         "name": "Vegetables",
         "orientation": "v",
         "showlegend": true,
         "type": "scatter",
         "x": [
          0.2,
          0.4
         ],
         "xaxis": "x",
         "y": [
          2.4,
          2.4
         ],
         "yaxis": "y"
        },
        {
         "customdata": [
          [
           160,
           "https://encrypted-tbn0.gstatic.com/images?q=tbn:ANd9GcRHP8m0PJO8nNVfLfDjmNgO_JtCn-2iSNhpqyiaAUhrHNT1VMteVT-Qwxknufw&s"
          ]
         ],
         "hovertemplate": "<b>%{hovertext}</b><br><br>Fat: %{x:.2f}g<br>Proteins: %{y:.2f}g<br>Energy: %{customdata[0]:.2f}kcal<br><extra><img src='%{customdata[1]}'></extra>",
         "hovertext": [
          "Avocado"
         ],
         "legendgroup": "Fruits",
         "marker": {
          "color": "#FF0066",
          "size": 10,
          "sizemode": "area",
          "sizeref": 1.6325,
          "symbol": "circle"
         },
         "mode": "markers",
         "name": "Fruits",
         "orientation": "v",
         "showlegend": true,
         "type": "scatter",
         "x": [
          14.7
         ],
         "xaxis": "x",
         "y": [
          2
         ],
         "yaxis": "y"
        },
        {
         "customdata": [
          [
           132,
           "https://encrypted-tbn0.gstatic.com/images?q=tbn:ANd9GcRWNH5YqEDES0hX2pgqkb50EIHGYHvMLwjRrgDp4uAvunMducxq5tTwJ9fJPw&s"
          ]
         ],
         "hovertemplate": "<b>%{hovertext}</b><br><br>Fat: %{x:.2f}g<br>Proteins: %{y:.2f}g<br>Energy: %{customdata[0]:.2f}kcal<br><extra><img src='%{customdata[1]}'></extra>",
         "hovertext": [
          "Black beans (boiled)"
         ],
         "legendgroup": "Beans",
         "marker": {
          "color": "#9E005D",
          "size": 10,
          "sizemode": "area",
          "sizeref": 1.6325,
          "symbol": "circle"
         },
         "mode": "markers",
         "name": "Beans",
         "orientation": "v",
         "showlegend": true,
         "type": "scatter",
         "x": [
          0.5
         ],
         "xaxis": "x",
         "y": [
          8.9
         ],
         "yaxis": "y"
        },
        {
         "customdata": [
          [
           300,
           "https://encrypted-tbn0.gstatic.com/images?q=tbn:ANd9GcQokvkME5UmIN6KFcsP8emmYq_L8RuWulZK2Rwjkll-RnPsTllUsHDjIWmSyU8&s"
          ],
          [
           403,
           "https://encrypted-tbn0.gstatic.com/images?q=tbn:ANd9GcRqdO38Cl4s3N9MPyJPd-euSuKnY2F3eqLEBkgs3NnZHp9ik_RLbLxNjr0okw&s"
          ],
          [
           103,
           "https://encrypted-tbn0.gstatic.com/images?q=tbn:ANd9GcQ_OG7zJZgVUu6i2BaE6RHsvQfjuUPnbSi8InMJ0WwIDLtbrK3V52XWx0Kx0lY&s"
          ],
          [
           357,
           "https://encrypted-tbn0.gstatic.com/images?q=tbn:ANd9GcTZp15JZ9qET12yCg4qJAsuLYt4VvDFVnR_-wbM-NrKEslWNDakNFVbnA93HCg&s"
          ],
          [
           264,
           "https://encrypted-tbn0.gstatic.com/images?q=tbn:ANd9GcSuOvxsSHLX-uUX8kfwM1p0OqroiqYHWqxCzLhO0aZEquvOIAusyaEXITftbA&s"
          ],
          [
           300,
           "https://encrypted-tbn0.gstatic.com/images?q=tbn:ANd9GcTJOVP_RfffaasGHqtaPdfKYtgyfBx777wp8_C8Vns1Mna4JeJMcRDjbxZomg&s"
          ],
          [
           392,
           "https://encrypted-tbn0.gstatic.com/images?q=tbn:ANd9GcS1xmDzF330iQ24SeSuVpoDtgxq8mPVTNagu160-984H_I1GB1zgTFqkHKacys&s"
          ],
          [
           174,
           "https://encrypted-tbn0.gstatic.com/images?q=tbn:ANd9GcTH0frLyRB3MUoNPl6EwkWygc8VRms4wiC2IiUP_K6ZSGwXyp8UITx_WokntQ&s"
          ],
          [
           380,
           "https://encrypted-tbn0.gstatic.com/images?q=tbn:ANd9GcSn_2XHiWZulQmKeArU6cqnAkbhpOQ0XYnYKjQT8Y-dTUs_u3xicvKyt5Lzinw&s"
          ]
         ],
         "hovertemplate": "<b>%{hovertext}</b><br><br>Fat: %{x:.2f}g<br>Proteins: %{y:.2f}g<br>Energy: %{customdata[0]:.2f}kcal<br><extra><img src='%{customdata[1]}'></extra>",
         "hovertext": [
          "Camembert",
          "Cheddar",
          "Cottage cheese",
          "Edam",
          "Feta",
          "Mozzarella",
          "Parmesan",
          "Ricotta",
          "Swiss cheese"
         ],
         "legendgroup": "Cheese",
         "marker": {
          "color": "#FFCF48",
          "size": 10,
          "sizemode": "area",
          "sizeref": 1.6325,
          "symbol": "circle"
         },
         "mode": "markers",
         "name": "Cheese",
         "orientation": "v",
         "showlegend": true,
         "type": "scatter",
         "x": [
          24.3,
          33.1,
          4.5,
          27.8,
          21.3,
          22.4,
          25.8,
          13,
          27.8
         ],
         "xaxis": "x",
         "y": [
          19.8,
          25,
          12.5,
          25,
          14.2,
          22.2,
          35.8,
          11.5,
          27
         ],
         "yaxis": "y"
        },
        {
         "customdata": [
          [
           490,
           "https://encrypted-tbn0.gstatic.com/images?q=tbn:ANd9GcQYOw_2wS_oiZTG7UUNvyO3Q0aJB9-Fsk_SKwJgV1dfa2yMfZ_5DRPcCFWJLg&s"
          ],
          [
           531,
           "https://encrypted-tbn0.gstatic.com/images?q=tbn:ANd9GcQQc400FcHMruU7K3AmjMY3CTRSyhwIIOAFdcU9mX3WkOGRi8LT35EC6dXEEjM&s"
          ]
         ],
         "hovertemplate": "<b>%{hovertext}</b><br><br>Fat: %{x:.2f}g<br>Proteins: %{y:.2f}g<br>Energy: %{customdata[0]:.2f}kcal<br><extra><img src='%{customdata[1]}'></extra>",
         "hovertext": [
          "Chia seeds",
          "Pumpkin & squash kernels (roasted)"
         ],
         "legendgroup": "Seeds",
         "marker": {
          "color": "#6F6F6F",
          "size": 10,
          "sizemode": "area",
          "sizeref": 1.6325,
          "symbol": "circle"
         },
         "mode": "markers",
         "name": "Seeds",
         "orientation": "v",
         "showlegend": true,
         "type": "scatter",
         "x": [
          30.8,
          44
         ],
         "xaxis": "x",
         "y": [
          15.6,
          29
         ],
         "yaxis": "y"
        },
        {
         "customdata": [
          [
           165,
           "https://encrypted-tbn0.gstatic.com/images?q=tbn:ANd9GcRNUDzKLLBaWb-h9N-c-sZqSo1F1bhDCe9sTaGO7lNAMfHIjUYL80xDufqST-Y&s"
          ],
          [
           162.5,
           "https://encrypted-tbn0.gstatic.com/images?q=tbn:ANd9GcQeb5LbdI_kgvyx_AeKNX0IQDyzaXI3jgwb3tkgWBE7fKWMJ9uzu503Nu2orA4&s"
          ],
          [
           292,
           "https://encrypted-tbn0.gstatic.com/images?q=tbn:ANd9GcSrhJZOuY7Tg3KpIVaq2rJnrP3lzqs2D9P5NZ6daFYLiZUrbv4vIH3-oGgIGng&s"
          ],
          [
           152,
           "https://bbqchamps.com/wp-content/uploads/2021/08/lean-beef-options-Tenderloin-Roast.png"
          ],
          [
           240,
           "https://encrypted-tbn0.gstatic.com/images?q=tbn:ANd9GcSOJFDoeLk67el91WI2-ZQsk2oKP6H16VHFXHHnH2s1PPGADs4V60FTDX91sys&s"
          ],
          [
           135,
           "https://encrypted-tbn0.gstatic.com/images?q=tbn:ANd9GcSJmMpMHwouVIXukGFjtzkyAOjTSHAl02rfkK92QgLLrhkH4ieFJi2J6UFn3BY&s"
          ]
         ],
         "hovertemplate": "<b>%{hovertext}</b><br><br>Fat: %{x:.2f}g<br>Proteins: %{y:.2f}g<br>Energy: %{customdata[0]:.2f}kcal<br><extra><img src='%{customdata[1]}'></extra>",
         "hovertext": [
          "Chicken Breast",
          "Duck breast",
          "Lamb",
          "Lean Beef",
          "Lean Pork Chops",
          "Turkey breast"
         ],
         "legendgroup": "Meat",
         "marker": {
          "color": "#EC7357",
          "size": 10,
          "sizemode": "area",
          "sizeref": 1.6325,
          "symbol": "circle"
         },
         "mode": "markers",
         "name": "Meat",
         "orientation": "v",
         "showlegend": true,
         "type": "scatter",
         "x": [
          3.6,
          7.6,
          20.8,
          7,
          13.1,
          0.7
         ],
         "xaxis": "x",
         "y": [
          31,
          22.2,
          24.3,
          21,
          29,
          29
         ],
         "yaxis": "y"
        },
        {
         "customdata": [
          [
           164,
           "https://encrypted-tbn0.gstatic.com/images?q=tbn:ANd9GcQpOWirfy550tiUddZP160NHQBIGGhHcZcmpBX4xJNq03Neacqc7sLoymNCRQ&s"
          ],
          [
           141,
           "https://encrypted-tbn0.gstatic.com/images?q=tbn:ANd9GcQZihOB8pCOUTKJkst3cd7nXNWnrwAL-4XvjEXjmUzNf7ap538Qgay7fKsoXFg&s"
          ],
          [
           116,
           "https://encrypted-tbn0.gstatic.com/images?q=tbn:ANd9GcQ2QMB38o4nt3u70Acw8wTxtn_aVwfZ3YjGYwIBn16L7JxbpeM9ICePocxhITk&s"
          ]
         ],
         "hovertemplate": "<b>%{hovertext}</b><br><br>Fat: %{x:.2f}g<br>Proteins: %{y:.2f}g<br>Energy: %{customdata[0]:.2f}kcal<br><extra><img src='%{customdata[1]}'></extra>",
         "hovertext": [
          "Chickpeas (boiled)",
          "Edamame",
          "Lentils (boiled)"
         ],
         "legendgroup": "Legumes",
         "marker": {
          "color": "#009E49",
          "size": 10,
          "sizemode": "area",
          "sizeref": 1.6325,
          "symbol": "circle"
         },
         "mode": "markers",
         "name": "Legumes",
         "orientation": "v",
         "showlegend": true,
         "type": "scatter",
         "x": [
          2.6,
          6.4,
          0.4
         ],
         "xaxis": "x",
         "y": [
          8.9,
          12.4,
          9
         ],
         "yaxis": "y"
        },
        {
         "customdata": [
          [
           148,
           "https://encrypted-tbn0.gstatic.com/images?q=tbn:ANd9GcQTMPDkkQsYvbzPIudTEHD3CEDcAYdHgnm0AB5Nmu4qRW4xSMlULDlmItKgOg&s"
          ],
          [
           107,
           "https://encrypted-tbn0.gstatic.com/images?q=tbn:ANd9GcQ_CDuC2lokUnRwP4qYd8Qg1nbRw0ixhxAYp4ObA-YWS0BfxTwnA_WGl1um6Q&s"
          ],
          [
           158,
           "https://encrypted-tbn0.gstatic.com/images?q=tbn:ANd9GcRDqTVp7TkZE6FrAVhOXr0VZ86FwzezntrTDkVIN0zW7zL1hjakSRXRGI0HQg&s"
          ],
          [
           98,
           "https://encrypted-tbn0.gstatic.com/images?q=tbn:ANd9GcQbM1mhBqXehD18UkkywYpogHlSyxCU6JFIBfay_Ho7oJbhiKcPv4Swm9kqlw&s"
          ],
          [
           172,
           "https://encrypted-tbn0.gstatic.com/images?q=tbn:ANd9GcQXMNQ6T9i3MriXAzFnEYGgBwAwhDxyLf7VB8JmQaHcGEDC4vw-qKx8OtoEPb0&s"
          ],
          [
           164,
           "https://encrypted-tbn0.gstatic.com/images?q=tbn:ANd9GcRvb33gyA3dPQjOtCh_QbKgGG3s9O3VqWzQnLScQfaLDFPy0p4rWS8-uvtHjA&s"
          ],
          [
           106,
           "https://encrypted-tbn0.gstatic.com/images?q=tbn:ANd9GcSkrDtU2D6jeU5zagqW_u518BPotTj0K8nTmzjRrG7my5AOJeykGVST9m72xWw&s"
          ],
          [
           92,
           "https://encrypted-tbn0.gstatic.com/images?q=tbn:ANd9GcSufCYy_w7U_jueHHnIwB5TwJUctq0xkokb_y8rNloSZr0w4WTa7aGdtuB4fQ&s"
          ]
         ],
         "hovertemplate": "<b>%{hovertext}</b><br><br>Fat: %{x:.2f}g<br>Proteins: %{y:.2f}g<br>Energy: %{customdata[0]:.2f}kcal<br><extra><img src='%{customdata[1]}'></extra>",
         "hovertext": [
          "Clam",
          "Crab",
          "Cuttlefish",
          "Lobster",
          "Mussel",
          "Octopus",
          "Shrimp",
          "Squid"
         ],
         "legendgroup": "Shellfish & Mollusks",
         "marker": {
          "color": "#00B6CB",
          "size": 10,
          "sizemode": "area",
          "sizeref": 1.6325,
          "symbol": "circle"
         },
         "mode": "markers",
         "name": "Shellfish & Mollusks",
         "orientation": "v",
         "showlegend": true,
         "type": "scatter",
         "x": [
          2,
          1.5,
          1.4,
          0.6,
          4.5,
          2.1,
          1.7,
          1.4
         ],
         "xaxis": "x",
         "y": [
          25.5,
          21,
          32.5,
          20.5,
          23.8,
          29.8,
          20.3,
          17
         ],
         "yaxis": "y"
        },
        {
         "customdata": [
          [
           50,
           "https://encrypted-tbn0.gstatic.com/images?q=tbn:ANd9GcQB2GCJJzfpV8Dx6K6Zooc5xvakYn9lldqpCKkoYKP2QKrUY7hRGuRuHr2WGA&s"
          ],
          [
           69,
           "https://encrypted-tbn0.gstatic.com/images?q=tbn:ANd9GcQSQv4p_czmuZtYyzgDg-1Z_8s3YYx8MjOP2oAz4-_tr6mXgxmGnTCwWkZm5uE&s"
          ]
         ],
         "hovertemplate": "<b>%{hovertext}</b><br><br>Fat: %{x:.2f}g<br>Proteins: %{y:.2f}g<br>Energy: %{customdata[0]:.2f}kcal<br><extra><img src='%{customdata[1]}'></extra>",
         "hovertext": [
          "Cow Milk",
          "Goat Milk"
         ],
         "legendgroup": "Milk",
         "marker": {
          "color": "#F7E5D5",
          "size": 10,
          "sizemode": "area",
          "sizeref": 1.6325,
          "symbol": "circle"
         },
         "mode": "markers",
         "name": "Milk",
         "orientation": "v",
         "showlegend": true,
         "type": "scatter",
         "x": [
          2,
          4
         ],
         "xaxis": "x",
         "y": [
          3.3,
          3.6
         ],
         "yaxis": "y"
        },
        {
         "customdata": [
          [
           143,
           "https://encrypted-tbn0.gstatic.com/images?q=tbn:ANd9GcQos9X5vD8OOluVuxJUKbaoY9-X6pbZb5AGmhoLKFwjl2ojOUtyNq8OUy6rprs&s"
          ]
         ],
         "hovertemplate": "<b>%{hovertext}</b><br><br>Fat: %{x:.2f}g<br>Proteins: %{y:.2f}g<br>Energy: %{customdata[0]:.2f}kcal<br><extra><img src='%{customdata[1]}'></extra>",
         "hovertext": [
          "Eggs"
         ],
         "legendgroup": "Eggs",
         "marker": {
          "color": "#F8E9A1",
          "size": 10,
          "sizemode": "area",
          "sizeref": 1.6325,
          "symbol": "circle"
         },
         "mode": "markers",
         "name": "Eggs",
         "orientation": "v",
         "showlegend": true,
         "type": "scatter",
         "x": [
          9.5
         ],
         "xaxis": "x",
         "y": [
          12.6
         ],
         "yaxis": "y"
        },
        {
         "customdata": [
          [
           70,
           "https://encrypted-tbn0.gstatic.com/images?q=tbn:ANd9GcSbYf-rO8n1qvLwTSMTGneHfpt8eN0kpt3cdTwJRBbZbhiYnPdHyqcSEdwg2TY&s"
          ],
          [
           52,
           "https://encrypted-tbn0.gstatic.com/images?q=tbn:ANd9GcS8nI0T_mj9-zWg6rAPXuGfTXI3d9Zy_eAstqO1JhUGg4nNOD2wdzacarZcUQ&s"
          ],
          [
           196,
           "https://encrypted-tbn0.gstatic.com/images?q=tbn:ANd9GcR8m6E21oLWwwrQd7BRyxHPpNwCrvv2PFG8HHrj8oB5yZIwv63229vZofm7QQM&s"
          ]
         ],
         "hovertemplate": "<b>%{hovertext}</b><br><br>Fat: %{x:.2f}g<br>Proteins: %{y:.2f}g<br>Energy: %{customdata[0]:.2f}kcal<br><extra><img src='%{customdata[1]}'></extra>",
         "hovertext": [
          "Firm Tofu",
          "Soy Milk",
          "Tempeh (cooked)"
         ],
         "legendgroup": "Soy Products",
         "marker": {
          "color": "#A5A052",
          "size": 10,
          "sizemode": "area",
          "sizeref": 1.6325,
          "symbol": "circle"
         },
         "mode": "markers",
         "name": "Soy Products",
         "orientation": "v",
         "showlegend": true,
         "type": "scatter",
         "x": [
          4.2,
          2,
          11.4
         ],
         "xaxis": "x",
         "y": [
          8.4,
          4.5,
          18.2
         ],
         "yaxis": "y"
        },
        {
         "customdata": [
          [
           93.5,
           "https://encrypted-tbn0.gstatic.com/images?q=tbn:ANd9GcQavMnK7LEXUMMR7YEukenHAQjvXmXQSpPHb1-BXvsaXZTuvVY5gXYMi24XdQ&s"
          ]
         ],
         "hovertemplate": "<b>%{hovertext}</b><br><br>Fat: %{x:.2f}g<br>Proteins: %{y:.2f}g<br>Energy: %{customdata[0]:.2f}kcal<br><extra><img src='%{customdata[1]}'></extra>",
         "hovertext": [
          "Greek yogurt"
         ],
         "legendgroup": "Yogurts",
         "marker": {
          "color": "#FFC0CB",
          "size": 10,
          "sizemode": "area",
          "sizeref": 1.6325,
          "symbol": "circle"
         },
         "mode": "markers",
         "name": "Yogurts",
         "orientation": "v",
         "showlegend": true,
         "type": "scatter",
         "x": [
          5.4
         ],
         "xaxis": "x",
         "y": [
          7
         ],
         "yaxis": "y"
        },
        {
         "customdata": [
          [
           106,
           "https://encrypted-tbn0.gstatic.com/images?q=tbn:ANd9GcSjv4dUCfuviBwcmbQH1LeYp1O9hP0jq_O8bnfMDzjaFPYxL8ulwkjLixJ23A&s"
          ]
         ],
         "hovertemplate": "<b>%{hovertext}</b><br><br>Fat: %{x:.2f}g<br>Proteins: %{y:.2f}g<br>Energy: %{customdata[0]:.2f}kcal<br><extra><img src='%{customdata[1]}'></extra>",
         "hovertext": [
          "Seitan"
         ],
         "legendgroup": "Vegan Meat Substitute",
         "marker": {
          "color": "#B2B2B2",
          "size": 10,
          "sizemode": "area",
          "sizeref": 1.6325,
          "symbol": "circle"
         },
         "mode": "markers",
         "name": "Vegan Meat Substitute",
         "orientation": "v",
         "showlegend": true,
         "type": "scatter",
         "x": [
          1.2
         ],
         "xaxis": "x",
         "y": [
          21.2
         ],
         "yaxis": "y"
        }
       ],
       "layout": {
        "dragmode": "zoom",
        "font": {
         "color": "#999999",
         "family": "Arial",
         "size": 12
        },
        "height": 550,
        "hoverdistance": 100,
        "hovermode": "closest",
        "legend": {
         "itemsizing": "constant",
         "title": {
          "text": "category_name"
         },
         "tracegroupgap": 0
        },
        "showlegend": false,
        "spikedistance": 200,
        "template": {
         "data": {
          "bar": [
           {
            "error_x": {
             "color": "#2a3f5f"
            },
            "error_y": {
             "color": "#2a3f5f"
            },
            "marker": {
             "line": {
              "color": "#E5ECF6",
              "width": 0.5
             },
             "pattern": {
              "fillmode": "overlay",
              "size": 10,
              "solidity": 0.2
             }
            },
            "type": "bar"
           }
          ],
          "barpolar": [
           {
            "marker": {
             "line": {
              "color": "#E5ECF6",
              "width": 0.5
             },
             "pattern": {
              "fillmode": "overlay",
              "size": 10,
              "solidity": 0.2
             }
            },
            "type": "barpolar"
           }
          ],
          "carpet": [
           {
            "aaxis": {
             "endlinecolor": "#2a3f5f",
             "gridcolor": "white",
             "linecolor": "white",
             "minorgridcolor": "white",
             "startlinecolor": "#2a3f5f"
            },
            "baxis": {
             "endlinecolor": "#2a3f5f",
             "gridcolor": "white",
             "linecolor": "white",
             "minorgridcolor": "white",
             "startlinecolor": "#2a3f5f"
            },
            "type": "carpet"
           }
          ],
          "choropleth": [
           {
            "colorbar": {
             "outlinewidth": 0,
             "ticks": ""
            },
            "type": "choropleth"
           }
          ],
          "contour": [
           {
            "colorbar": {
             "outlinewidth": 0,
             "ticks": ""
            },
            "colorscale": [
             [
              0,
              "#0d0887"
             ],
             [
              0.1111111111111111,
              "#46039f"
             ],
             [
              0.2222222222222222,
              "#7201a8"
             ],
             [
              0.3333333333333333,
              "#9c179e"
             ],
             [
              0.4444444444444444,
              "#bd3786"
             ],
             [
              0.5555555555555556,
              "#d8576b"
             ],
             [
              0.6666666666666666,
              "#ed7953"
             ],
             [
              0.7777777777777778,
              "#fb9f3a"
             ],
             [
              0.8888888888888888,
              "#fdca26"
             ],
             [
              1,
              "#f0f921"
             ]
            ],
            "type": "contour"
           }
          ],
          "contourcarpet": [
           {
            "colorbar": {
             "outlinewidth": 0,
             "ticks": ""
            },
            "type": "contourcarpet"
           }
          ],
          "heatmap": [
           {
            "colorbar": {
             "outlinewidth": 0,
             "ticks": ""
            },
            "colorscale": [
             [
              0,
              "#0d0887"
             ],
             [
              0.1111111111111111,
              "#46039f"
             ],
             [
              0.2222222222222222,
              "#7201a8"
             ],
             [
              0.3333333333333333,
              "#9c179e"
             ],
             [
              0.4444444444444444,
              "#bd3786"
             ],
             [
              0.5555555555555556,
              "#d8576b"
             ],
             [
              0.6666666666666666,
              "#ed7953"
             ],
             [
              0.7777777777777778,
              "#fb9f3a"
             ],
             [
              0.8888888888888888,
              "#fdca26"
             ],
             [
              1,
              "#f0f921"
             ]
            ],
            "type": "heatmap"
           }
          ],
          "heatmapgl": [
           {
            "colorbar": {
             "outlinewidth": 0,
             "ticks": ""
            },
            "colorscale": [
             [
              0,
              "#0d0887"
             ],
             [
              0.1111111111111111,
              "#46039f"
             ],
             [
              0.2222222222222222,
              "#7201a8"
             ],
             [
              0.3333333333333333,
              "#9c179e"
             ],
             [
              0.4444444444444444,
              "#bd3786"
             ],
             [
              0.5555555555555556,
              "#d8576b"
             ],
             [
              0.6666666666666666,
              "#ed7953"
             ],
             [
              0.7777777777777778,
              "#fb9f3a"
             ],
             [
              0.8888888888888888,
              "#fdca26"
             ],
             [
              1,
              "#f0f921"
             ]
            ],
            "type": "heatmapgl"
           }
          ],
          "histogram": [
           {
            "marker": {
             "pattern": {
              "fillmode": "overlay",
              "size": 10,
              "solidity": 0.2
             }
            },
            "type": "histogram"
           }
          ],
          "histogram2d": [
           {
            "colorbar": {
             "outlinewidth": 0,
             "ticks": ""
            },
            "colorscale": [
             [
              0,
              "#0d0887"
             ],
             [
              0.1111111111111111,
              "#46039f"
             ],
             [
              0.2222222222222222,
              "#7201a8"
             ],
             [
              0.3333333333333333,
              "#9c179e"
             ],
             [
              0.4444444444444444,
              "#bd3786"
             ],
             [
              0.5555555555555556,
              "#d8576b"
             ],
             [
              0.6666666666666666,
              "#ed7953"
             ],
             [
              0.7777777777777778,
              "#fb9f3a"
             ],
             [
              0.8888888888888888,
              "#fdca26"
             ],
             [
              1,
              "#f0f921"
             ]
            ],
            "type": "histogram2d"
           }
          ],
          "histogram2dcontour": [
           {
            "colorbar": {
             "outlinewidth": 0,
             "ticks": ""
            },
            "colorscale": [
             [
              0,
              "#0d0887"
             ],
             [
              0.1111111111111111,
              "#46039f"
             ],
             [
              0.2222222222222222,
              "#7201a8"
             ],
             [
              0.3333333333333333,
              "#9c179e"
             ],
             [
              0.4444444444444444,
              "#bd3786"
             ],
             [
              0.5555555555555556,
              "#d8576b"
             ],
             [
              0.6666666666666666,
              "#ed7953"
             ],
             [
              0.7777777777777778,
              "#fb9f3a"
             ],
             [
              0.8888888888888888,
              "#fdca26"
             ],
             [
              1,
              "#f0f921"
             ]
            ],
            "type": "histogram2dcontour"
           }
          ],
          "mesh3d": [
           {
            "colorbar": {
             "outlinewidth": 0,
             "ticks": ""
            },
            "type": "mesh3d"
           }
          ],
          "parcoords": [
           {
            "line": {
             "colorbar": {
              "outlinewidth": 0,
              "ticks": ""
             }
            },
            "type": "parcoords"
           }
          ],
          "pie": [
           {
            "automargin": true,
            "type": "pie"
           }
          ],
          "scatter": [
           {
            "fillpattern": {
             "fillmode": "overlay",
             "size": 10,
             "solidity": 0.2
            },
            "type": "scatter"
           }
          ],
          "scatter3d": [
           {
            "line": {
             "colorbar": {
              "outlinewidth": 0,
              "ticks": ""
             }
            },
            "marker": {
             "colorbar": {
              "outlinewidth": 0,
              "ticks": ""
             }
            },
            "type": "scatter3d"
           }
          ],
          "scattercarpet": [
           {
            "marker": {
             "colorbar": {
              "outlinewidth": 0,
              "ticks": ""
             }
            },
            "type": "scattercarpet"
           }
          ],
          "scattergeo": [
           {
            "marker": {
             "colorbar": {
              "outlinewidth": 0,
              "ticks": ""
             }
            },
            "type": "scattergeo"
           }
          ],
          "scattergl": [
           {
            "marker": {
             "colorbar": {
              "outlinewidth": 0,
              "ticks": ""
             }
            },
            "type": "scattergl"
           }
          ],
          "scattermapbox": [
           {
            "marker": {
             "colorbar": {
              "outlinewidth": 0,
              "ticks": ""
             }
            },
            "type": "scattermapbox"
           }
          ],
          "scatterpolar": [
           {
            "marker": {
             "colorbar": {
              "outlinewidth": 0,
              "ticks": ""
             }
            },
            "type": "scatterpolar"
           }
          ],
          "scatterpolargl": [
           {
            "marker": {
             "colorbar": {
              "outlinewidth": 0,
              "ticks": ""
             }
            },
            "type": "scatterpolargl"
           }
          ],
          "scatterternary": [
           {
            "marker": {
             "colorbar": {
              "outlinewidth": 0,
              "ticks": ""
             }
            },
            "type": "scatterternary"
           }
          ],
          "surface": [
           {
            "colorbar": {
             "outlinewidth": 0,
             "ticks": ""
            },
            "colorscale": [
             [
              0,
              "#0d0887"
             ],
             [
              0.1111111111111111,
              "#46039f"
             ],
             [
              0.2222222222222222,
              "#7201a8"
             ],
             [
              0.3333333333333333,
              "#9c179e"
             ],
             [
              0.4444444444444444,
              "#bd3786"
             ],
             [
              0.5555555555555556,
              "#d8576b"
             ],
             [
              0.6666666666666666,
              "#ed7953"
             ],
             [
              0.7777777777777778,
              "#fb9f3a"
             ],
             [
              0.8888888888888888,
              "#fdca26"
             ],
             [
              1,
              "#f0f921"
             ]
            ],
            "type": "surface"
           }
          ],
          "table": [
           {
            "cells": {
             "fill": {
              "color": "#EBF0F8"
             },
             "line": {
              "color": "white"
             }
            },
            "header": {
             "fill": {
              "color": "#C8D4E3"
             },
             "line": {
              "color": "white"
             }
            },
            "type": "table"
           }
          ]
         },
         "layout": {
          "annotationdefaults": {
           "arrowcolor": "#2a3f5f",
           "arrowhead": 0,
           "arrowwidth": 1
          },
          "autotypenumbers": "strict",
          "coloraxis": {
           "colorbar": {
            "outlinewidth": 0,
            "ticks": ""
           }
          },
          "colorscale": {
           "diverging": [
            [
             0,
             "#8e0152"
            ],
            [
             0.1,
             "#c51b7d"
            ],
            [
             0.2,
             "#de77ae"
            ],
            [
             0.3,
             "#f1b6da"
            ],
            [
             0.4,
             "#fde0ef"
            ],
            [
             0.5,
             "#f7f7f7"
            ],
            [
             0.6,
             "#e6f5d0"
            ],
            [
             0.7,
             "#b8e186"
            ],
            [
             0.8,
             "#7fbc41"
            ],
            [
             0.9,
             "#4d9221"
            ],
            [
             1,
             "#276419"
            ]
           ],
           "sequential": [
            [
             0,
             "#0d0887"
            ],
            [
             0.1111111111111111,
             "#46039f"
            ],
            [
             0.2222222222222222,
             "#7201a8"
            ],
            [
             0.3333333333333333,
             "#9c179e"
            ],
            [
             0.4444444444444444,
             "#bd3786"
            ],
            [
             0.5555555555555556,
             "#d8576b"
            ],
            [
             0.6666666666666666,
             "#ed7953"
            ],
            [
             0.7777777777777778,
             "#fb9f3a"
            ],
            [
             0.8888888888888888,
             "#fdca26"
            ],
            [
             1,
             "#f0f921"
            ]
           ],
           "sequentialminus": [
            [
             0,
             "#0d0887"
            ],
            [
             0.1111111111111111,
             "#46039f"
            ],
            [
             0.2222222222222222,
             "#7201a8"
            ],
            [
             0.3333333333333333,
             "#9c179e"
            ],
            [
             0.4444444444444444,
             "#bd3786"
            ],
            [
             0.5555555555555556,
             "#d8576b"
            ],
            [
             0.6666666666666666,
             "#ed7953"
            ],
            [
             0.7777777777777778,
             "#fb9f3a"
            ],
            [
             0.8888888888888888,
             "#fdca26"
            ],
            [
             1,
             "#f0f921"
            ]
           ]
          },
          "colorway": [
           "#636efa",
           "#EF553B",
           "#00cc96",
           "#ab63fa",
           "#FFA15A",
           "#19d3f3",
           "#FF6692",
           "#B6E880",
           "#FF97FF",
           "#FECB52"
          ],
          "font": {
           "color": "#2a3f5f"
          },
          "geo": {
           "bgcolor": "white",
           "lakecolor": "white",
           "landcolor": "#E5ECF6",
           "showlakes": true,
           "showland": true,
           "subunitcolor": "white"
          },
          "hoverlabel": {
           "align": "left"
          },
          "hovermode": "closest",
          "mapbox": {
           "style": "light"
          },
          "paper_bgcolor": "white",
          "plot_bgcolor": "#E5ECF6",
          "polar": {
           "angularaxis": {
            "gridcolor": "white",
            "linecolor": "white",
            "ticks": ""
           },
           "bgcolor": "#E5ECF6",
           "radialaxis": {
            "gridcolor": "white",
            "linecolor": "white",
            "ticks": ""
           }
          },
          "scene": {
           "xaxis": {
            "backgroundcolor": "#E5ECF6",
            "gridcolor": "white",
            "gridwidth": 2,
            "linecolor": "white",
            "showbackground": true,
            "ticks": "",
            "zerolinecolor": "white"
           },
           "yaxis": {
            "backgroundcolor": "#E5ECF6",
            "gridcolor": "white",
            "gridwidth": 2,
            "linecolor": "white",
            "showbackground": true,
            "ticks": "",
            "zerolinecolor": "white"
           },
           "zaxis": {
            "backgroundcolor": "#E5ECF6",
            "gridcolor": "white",
            "gridwidth": 2,
            "linecolor": "white",
            "showbackground": true,
            "ticks": "",
            "zerolinecolor": "white"
           }
          },
          "shapedefaults": {
           "line": {
            "color": "#2a3f5f"
           }
          },
          "ternary": {
           "aaxis": {
            "gridcolor": "white",
            "linecolor": "white",
            "ticks": ""
           },
           "baxis": {
            "gridcolor": "white",
            "linecolor": "white",
            "ticks": ""
           },
           "bgcolor": "#E5ECF6",
           "caxis": {
            "gridcolor": "white",
            "linecolor": "white",
            "ticks": ""
           }
          },
          "title": {
           "x": 0.05
          },
          "xaxis": {
           "automargin": true,
           "gridcolor": "white",
           "linecolor": "white",
           "ticks": "",
           "title": {
            "standoff": 15
           },
           "zerolinecolor": "white",
           "zerolinewidth": 2
          },
          "yaxis": {
           "automargin": true,
           "gridcolor": "white",
           "linecolor": "white",
           "ticks": "",
           "title": {
            "standoff": 15
           },
           "zerolinecolor": "white",
           "zerolinewidth": 2
          }
         }
        },
        "title": {
         "text": "Fat vs Proteins"
        },
        "updatemenus": [
         {
          "buttons": [
           {
            "args": [
             {
              "xaxis.type": "linear"
             }
            ],
            "label": "Linear",
            "method": "relayout"
           },
           {
            "args": [
             {
              "xaxis.type": "log"
             }
            ],
            "label": "Log",
            "method": "relayout"
           }
          ],
          "direction": "left",
          "pad": {
           "r": 10,
           "t": 10
          },
          "showactive": true,
          "type": "buttons",
          "x": 0.1,
          "xanchor": "left",
          "y": 1.1,
          "yanchor": "top"
         }
        ],
        "width": 1000,
        "xaxis": {
         "anchor": "y",
         "domain": [
          0,
          1
         ],
         "tickfont": {
          "color": "#999999",
          "family": "Arial",
          "size": 12
         },
         "title": {
          "text": "Fat (g)"
         }
        },
        "yaxis": {
         "anchor": "x",
         "domain": [
          0,
          1
         ],
         "tickfont": {
          "color": "#999999",
          "family": "Arial",
          "size": 12
         },
         "title": {
          "text": "Proteins (g)"
         }
        }
       }
      }
     },
     "metadata": {},
     "output_type": "display_data"
    }
   ],
   "source": [
    "df = pd.read_csv(\"data/macros_dataset_images.csv\")\n",
    "\n",
    "color_sequence = [\n",
    "    \"#0077C9\", # Fish\n",
    "    \"#8B4513\", # Nuts\n",
    "    \"#F5E042\", # Grains\n",
    "    \"#4EB265\", # Vegetables\n",
    "    \"#FF0066\", # Fruits\n",
    "    \"#9E005D\", # Beans\n",
    "    \"#FFCF48\", # Cheese\n",
    "    \"#6F6F6F\", # Seeds\n",
    "    \"#EC7357\", # Meat\n",
    "    \"#009E49\", # Legumes\n",
    "    \"#00B6CB\", # Shellfish & Mollusks\n",
    "    \"#F7E5D5\", # Milk\n",
    "    \"#F8E9A1\", # Eggs\n",
    "    \"#A5A052\", # Soy Products\n",
    "    \"#FFC0CB\", # Yogurts\n",
    "    \"#B2B2B2\"  # Vegan Meat Substitute\n",
    "]\n",
    "\n",
    "\n",
    "import plotly.express as px\n",
    "# let's make a scatter plot of the fat_100g and the proteins_100g grouped by category_name\n",
    "fig = px.scatter(df, \n",
    "    x=\"fat_100g\",\n",
    "    y=\"proteins_100g\",\n",
    "    color=\"category_name\",\n",
    "    hover_name=\"food_name\",\n",
    "    size=\"energy_100g\",\n",
    "    size_max=20,\n",
    "    title=\"Fat vs Proteins\",\n",
    "    labels={\"fat_100g\":\"Fat (g)\", \"proteins_100g\":\"Proteins (g)\", \"energy_100g\":\"Energy (kcal)\"},\n",
    "    width=1000,\n",
    "    height=550,\n",
    "    color_discrete_sequence=color_sequence,\n",
    "    custom_data=[\"energy_100g\", \"image_url\"],\n",
    "    hover_data={\"image_url\":True, \"energy_100g\":True})\n",
    "# let's make the dots bigger\n",
    "fig.update_traces(marker=dict(size=10))\n",
    "\n",
    "# let's change the hover template\n",
    "fig.update_traces(hovertemplate=\"<b>%{hovertext}</b><br><br>\" +\n",
    "                    \"Fat: %{x:.2f}g<br>\" + \n",
    "                    \"Proteins: %{y:.2f}g<br>\" +\n",
    "                    \"Energy: %{customdata[0]:.2f}kcal<br>\" +\n",
    "                    \"\" +\n",
    "                    \"<extra><img src='%{customdata[1]}'></extra>\") # the hover templat doesn't work with the img tag\n",
    "\n",
    "# let's change plotly's menu\n",
    "fig.update_layout(\n",
    "    updatemenus=[\n",
    "        dict(\n",
    "            type=\"buttons\",\n",
    "            direction=\"left\",\n",
    "            buttons=list([\n",
    "                dict(\n",
    "                    args=[{\"xaxis.type\": \"linear\"}],\n",
    "                    label=\"Linear\",\n",
    "                    method=\"relayout\"\n",
    "                ),\n",
    "                dict(\n",
    "                    args=[{\"xaxis.type\": \"log\"}],\n",
    "                    label=\"Log\",\n",
    "                    method=\"relayout\"\n",
    "                )\n",
    "            ]),\n",
    "            pad={\"r\": 10, \"t\": 10},\n",
    "            showactive=True,\n",
    "            x=0.1,\n",
    "            xanchor=\"left\",\n",
    "            y=1.1,\n",
    "            yanchor=\"top\"\n",
    "        ),\n",
    "    ]\n",
    ")\n",
    "\n",
    "fig.update_layout(\n",
    "    dragmode=\"zoom\",\n",
    "    hovermode=\"closest\",\n",
    "    hoverdistance=100,\n",
    "    spikedistance=200,\n",
    "    showlegend=False,\n",
    "    xaxis=dict(\n",
    "        title=\"Fat (g)\",\n",
    "        tickfont=dict(\n",
    "            family=\"Arial\",\n",
    "            size=12,\n",
    "            color=\"#999999\"\n",
    "        )\n",
    "    ),\n",
    "    yaxis=dict(\n",
    "        title=\"Proteins (g)\",\n",
    "        tickfont=dict(\n",
    "            family=\"Arial\",\n",
    "            size=12,\n",
    "            color=\"#999999\"\n",
    "        )\n",
    "    ),\n",
    "    font=dict(\n",
    "        family=\"Arial\",\n",
    "        size=12,\n",
    "        color=\"#999999\"\n",
    "    )\n",
    ")\n",
    "\n",
    "# let's remove the option to Box Select and Lasso Select from the plotly menu\n",
    "fig.update_layout(\n",
    "    hovermode=\"closest\",\n",
    "    hoverdistance=100,\n",
    "    spikedistance=200\n",
    ")\n",
    "\n",
    "# export the figure to a html file\n",
    "fig.write_html(\"fat_vs_proteins.html\")\n",
    "\n",
    "\n",
    "fig.show()"
   ]
  },
  {
   "cell_type": "code",
   "execution_count": 29,
   "metadata": {},
   "outputs": [
    {
     "data": {
      "text/html": [
       "\n",
       "        <iframe\n",
       "            width=\"100%\"\n",
       "            height=\"650\"\n",
       "            src=\"http://127.0.0.1:8051/\"\n",
       "            frameborder=\"0\"\n",
       "            allowfullscreen\n",
       "            \n",
       "        ></iframe>\n",
       "        "
      ],
      "text/plain": [
       "<IPython.lib.display.IFrame at 0x1c4b8f60e50>"
      ]
     },
     "metadata": {},
     "output_type": "display_data"
    }
   ],
   "source": [
    "from jupyter_dash import JupyterDash\n",
    "from dash import dcc, html, Input, Output, no_update\n",
    "import plotly.graph_objects as go\n",
    "# let's make a scatter plot of the fat_100g and the proteins_100g grouped by category_name\n",
    "fig = px.scatter(df, x=\"fat_100g\", y=\"proteins_100g\", color=\"category_name\", hover_name=\"food_name\",\n",
    "    size=\"energy_100g\", title=\"Fat vs Proteins (100g)\", labels={\"fat_100g\":\"Fat (g)\", \"proteins_100g\":\"Proteins (g)\", \"energy_100g\":\"Energy (kcal)\"},\n",
    "    width=1200, height=600, color_discrete_sequence=color_sequence,\n",
    "    custom_data=[\"energy_100g\", \"image_url\", \"fat_100g\", \"proteins_100g\", \"energy_100g\", \"carbohydrates_100g\", \"category_name\"], hover_data={\"image_url\":True, \"energy_100g\":True})\n",
    "# let's make the dots bigger\n",
    "fig.update_traces(marker=dict(size=10))\n",
    "\n",
    "fig.update_traces(hoverinfo=\"none\", hovertemplate=None)\n",
    "\n",
    "fig.update_layout(modebar_remove=['select', 'autoScale', 'lasso2d'])\n",
    "# change the default behavior to pan\n",
    "fig.update_layout(dragmode=\"pan\")\n",
    "\n",
    "app = JupyterDash(__name__)\n",
    "\n",
    "app.layout = html.Div([\n",
    "    html.H1(\"Visualização da Informação\"),\n",
    "    html.H2(\"Por: Lucas Treuke\"),\n",
    "    dcc.Graph(id=\"graph\", figure=fig, clear_on_unhover=True),\n",
    "    dcc.Tooltip(id=\"graph-tooltip\"),\n",
    "], style={\n",
    "    \"font-family\": \"Helvetica, sans-serif\",\n",
    "    \"margin\": \"10px\",\n",
    "})\n",
    "\n",
    "\n",
    "@app.callback(\n",
    "    Output(\"graph-tooltip\", \"show\"),\n",
    "    Output(\"graph-tooltip\", \"bbox\"),\n",
    "    Output(\"graph-tooltip\", \"children\"),\n",
    "    Input(\"graph\", \"hoverData\"),\n",
    ")\n",
    "def display_hover(hoverData):\n",
    "    if hoverData is None:\n",
    "        return False, no_update, no_update\n",
    "\n",
    "    pt = hoverData[\"points\"][0]\n",
    "    bbox = pt[\"bbox\"]\n",
    "\n",
    "    img_src = pt[\"customdata\"][1]\n",
    "    fat_100g = pt[\"customdata\"][2]\n",
    "    proteins_100g = pt[\"customdata\"][3]\n",
    "    energy_100g = pt[\"customdata\"][4]\n",
    "    carbohydrates_100g = pt[\"customdata\"][5]\n",
    "    category_name = pt[\"customdata\"][6]\n",
    "    name = pt[\"hovertext\"]\n",
    "\n",
    "    children = [\n",
    "        html.Div(children=[\n",
    "            html.H2(f\"{name}\", style={\"color\": \"black\", \"font-family\": \"Arial\"}),\n",
    "            html.Img(src=img_src, style={\"width\": \"100%\"}),\n",
    "            html.P(children=[\n",
    "                html.Span(\"⬤  \", style={\"color\": color_sequence[pt[\"curveNumber\"]]}),\n",
    "                html.Span(f\"{category_name}\")\n",
    "                ], style={\"color\":\"#111\", \"font-family\": \"Arial\", \"margin-top\":\"3px\", \"border-top\": \"1px solid #888\", \"font-weight\": \"bold\"}),\n",
    "            html.P(f\"Quantity: 100g\",style={\"color\":\"#333\", \"font-family\": \"Arial\"}),\n",
    "            html.P(f\"Fat: {fat_100g}g\",style={\"color\":\"#333\", \"font-family\": \"Arial\"}),\n",
    "            html.P(f\"Proteins: {proteins_100g}g\",style={\"color\":\"#333\", \"font-family\": \"Arial\"}),\n",
    "            html.P(f\"Energy: {energy_100g}kcal\",style={\"color\":\"#333\", \"font-family\": \"Arial\"}),\n",
    "            html.P(f\"Carbohydrates: {carbohydrates_100g}g\",style={\"color\":\"#333\", \"font-family\": \"Arial\"})\n",
    "        ],\n",
    "        style={'width': '200px', 'white-space': 'normal'})\n",
    "    ]\n",
    "\n",
    "    return True, bbox, children\n",
    "\n",
    "\n",
    "\n",
    "# app.run_server(debug=True, mode='inline')\n",
    "app.run_server(mode=\"inline\", port=8051, debug=True, dev_tools_ui=False, dev_tools_props_check=False)"
   ]
  },
  {
   "cell_type": "code",
   "execution_count": null,
   "metadata": {},
   "outputs": [],
   "source": []
  }
 ],
 "metadata": {
  "kernelspec": {
   "display_name": "cdkit",
   "language": "python",
   "name": "python3"
  },
  "language_info": {
   "codemirror_mode": {
    "name": "ipython",
    "version": 3
   },
   "file_extension": ".py",
   "mimetype": "text/x-python",
   "name": "python",
   "nbconvert_exporter": "python",
   "pygments_lexer": "ipython3",
   "version": "3.10.4"
  },
  "orig_nbformat": 4,
  "vscode": {
   "interpreter": {
    "hash": "ac9b0415f03afc0f4c5c4a494e3d30a35cd6b81bd21147201fe016ded8a6201a"
   }
  }
 },
 "nbformat": 4,
 "nbformat_minor": 2
}
